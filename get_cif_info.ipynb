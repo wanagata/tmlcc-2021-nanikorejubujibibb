{
 "cells": [
  {
   "cell_type": "code",
   "metadata": {
    "tags": [],
    "cell_id": "00000-1d24a594-d5ca-4a85-8bda-b279484babae",
    "deepnote_to_be_reexecuted": false,
    "source_hash": "7204f51a",
    "execution_start": 1634385452064,
    "execution_millis": 2463,
    "deepnote_cell_type": "code"
   },
   "source": "import numpy as np\nimport pandas as pd\nimport re, os\n\npd.plotting.register_matplotlib_converters()\nimport matplotlib.pyplot as plt\nimport seaborn as sns\nfrom sklearn.metrics import mean_absolute_error\n\nfrom sklearn.datasets import make_regression\nfrom sklearn.ensemble import GradientBoostingRegressor\nfrom sklearn.model_selection import train_test_split\nfrom pandas_profiling import ProfileReport\n\nfrom ase.io import read\nimport copy\nfrom tqdm import tqdm \n",
   "outputs": [],
   "execution_count": null
  },
  {
   "cell_type": "code",
   "source": "#!unzip mof_cif_test",
   "metadata": {
    "tags": [],
    "cell_id": "00001-97d8e4ab-d517-412d-bca2-e118c41853a7",
    "deepnote_cell_type": "code"
   },
   "outputs": [],
   "execution_count": null
  },
  {
   "cell_type": "code",
   "metadata": {
    "tags": [],
    "cell_id": "00001-6ee75d3c-190d-448e-b8f0-2cdfc29183ea",
    "deepnote_to_be_reexecuted": false,
    "source_hash": "4d2a1838",
    "execution_start": 1634385939267,
    "execution_millis": 0,
    "deepnote_cell_type": "code"
   },
   "source": "Atom_list = ['H', 'B', 'C', 'N', 'O', 'F', 'P', 'S', 'Cl', 'V', 'Cr', 'Ni', 'Cu',\n       'Zn', 'Br', 'I', 'Ba']\n\ndef count_Atom(content,atom_list):\n     dict = {}           \n     for key in atom_list:\n         new = []\n         for line in content[22:]:\n            \n             if key in line:\n                \n                 a = str(line.split()[0])\n                 new.append(a)\n\n             if \"loop_\" in line:                \n                 dict[str(\"cif_\"+key)] = len(new)\n\n                 break\n     return dict\n\n#Metal = {'Mg':47.2,'V':53.5,'Cr':32.9,'Co':37.2,'Ni':37.7,'Cu':25.1,'Zn':36.6,}\n\ndef read_cif_toAtom(cifDir,Atom_list):\n    list_out = []\n    index_out = []\n    for cifname in tqdm(os.listdir(cifDir), desc = 'Filename'):\n        #delete .csv from filename and append to list \"index_out\"\n        index_out.append(cifname[:-4])\n        content = open(os.path.join(cifDir, cifname), 'r').readlines()\n        list_out.append(count_Atom(content,Atom_list))\n\n    data_atom = pd.DataFrame.from_dict(list_out)\n    data_atom.index = index_out\n    return data_atom",
   "outputs": [],
   "execution_count": null
  },
  {
   "cell_type": "code",
   "metadata": {
    "tags": [],
    "cell_id": "00002-9e076afb-1baf-4876-917a-3ad08e57cfb8",
    "deepnote_to_be_reexecuted": false,
    "source_hash": "876382ef",
    "execution_start": 1634385940855,
    "execution_millis": 111128,
    "deepnote_cell_type": "code"
   },
   "source": "cifDir = ['mof_cif_test','mof_cif_train',]\nprint(cifDir)\ndata_atom = []\nfor index, cifdir in enumerate(cifDir):\n    data_atom.append(read_cif_toAtom(cifdir,Atom_list))\n    ",
   "outputs": [
    {
     "name": "stdout",
     "text": "['mof_cif_test', 'mof_cif_train']\nFilename: 100%|██████████| 17000/17000 [00:20<00:00, 825.92it/s]\nFilename: 100%|██████████| 68613/68613 [01:29<00:00, 762.46it/s]\n",
     "output_type": "stream"
    }
   ],
   "execution_count": null
  },
  {
   "cell_type": "code",
   "metadata": {
    "tags": [],
    "cell_id": "00002-db93cf0c-e2a3-46f2-bf8c-0d1b76d3ede4",
    "deepnote_to_be_reexecuted": false,
    "source_hash": "b7d32cb3",
    "execution_start": 1634386051986,
    "execution_millis": 239,
    "deepnote_cell_type": "code"
   },
   "source": "train_data_full = pd.read_csv('tmlcc-2021/train.csv', index_col='MOFname')\ntest_data_full = pd.read_csv('tmlcc-2021/test.csv', index_col='MOFname')",
   "outputs": [],
   "execution_count": null
  },
  {
   "cell_type": "code",
   "source": "train_data_full.head()",
   "metadata": {
    "tags": [],
    "cell_id": "00005-b2eca9b4-5969-461c-b15f-9b2b99a139ea",
    "deepnote_to_be_reexecuted": false,
    "source_hash": "5f7b476c",
    "execution_start": 1634387119688,
    "execution_millis": 20,
    "deepnote_cell_type": "code"
   },
   "outputs": [
    {
     "output_type": "execute_result",
     "execution_count": 16,
     "data": {
      "application/vnd.deepnote.dataframe.v2+json": {
       "row_count": 5,
       "column_count": 13,
       "columns": [
        {
         "name": "volume [A^3]",
         "dtype": "float64",
         "stats": {
          "unique_count": 5,
          "nan_count": 0,
          "min": "1089.818728",
          "max": "2769.503842",
          "histogram": [
           {
            "bin_start": 1089.818728,
            "bin_end": 1257.7872394,
            "count": 3
           },
           {
            "bin_start": 1257.7872394,
            "bin_end": 1425.7557508,
            "count": 0
           },
           {
            "bin_start": 1425.7557508,
            "bin_end": 1593.7242621999999,
            "count": 0
           },
           {
            "bin_start": 1593.7242621999999,
            "bin_end": 1761.6927736,
            "count": 0
           },
           {
            "bin_start": 1761.6927736,
            "bin_end": 1929.6612850000001,
            "count": 0
           },
           {
            "bin_start": 1929.6612850000001,
            "bin_end": 2097.6297964,
            "count": 0
           },
           {
            "bin_start": 2097.6297964,
            "bin_end": 2265.5983078,
            "count": 1
           },
           {
            "bin_start": 2265.5983078,
            "bin_end": 2433.5668192000003,
            "count": 0
           },
           {
            "bin_start": 2433.5668192000003,
            "bin_end": 2601.5353305999997,
            "count": 0
           },
           {
            "bin_start": 2601.5353305999997,
            "bin_end": 2769.503842,
            "count": 1
           }
          ]
         }
        },
        {
         "name": "weight [u]",
         "dtype": "float64",
         "stats": {
          "unique_count": 5,
          "nan_count": 0,
          "min": "773.68796",
          "max": "2211.697211",
          "histogram": [
           {
            "bin_start": 773.68796,
            "bin_end": 917.4888851000001,
            "count": 3
           },
           {
            "bin_start": 917.4888851000001,
            "bin_end": 1061.2898102,
            "count": 0
           },
           {
            "bin_start": 1061.2898102,
            "bin_end": 1205.0907353,
            "count": 0
           },
           {
            "bin_start": 1205.0907353,
            "bin_end": 1348.8916604,
            "count": 1
           },
           {
            "bin_start": 1348.8916604,
            "bin_end": 1492.6925855000002,
            "count": 0
           },
           {
            "bin_start": 1492.6925855000002,
            "bin_end": 1636.4935106000003,
            "count": 0
           },
           {
            "bin_start": 1636.4935106000003,
            "bin_end": 1780.2944357000001,
            "count": 0
           },
           {
            "bin_start": 1780.2944357000001,
            "bin_end": 1924.0953608000002,
            "count": 0
           },
           {
            "bin_start": 1924.0953608000002,
            "bin_end": 2067.8962859000003,
            "count": 0
           },
           {
            "bin_start": 2067.8962859000003,
            "bin_end": 2211.697211,
            "count": 1
           }
          ]
         }
        },
        {
         "name": "surface_area [m^2/g]",
         "dtype": "float64",
         "stats": {
          "unique_count": 4,
          "nan_count": 0,
          "min": "0.0",
          "max": "1441.53",
          "histogram": [
           {
            "bin_start": 0,
            "bin_end": 144.153,
            "count": 2
           },
           {
            "bin_start": 144.153,
            "bin_end": 288.306,
            "count": 0
           },
           {
            "bin_start": 288.306,
            "bin_end": 432.45899999999995,
            "count": 0
           },
           {
            "bin_start": 432.45899999999995,
            "bin_end": 576.612,
            "count": 0
           },
           {
            "bin_start": 576.612,
            "bin_end": 720.765,
            "count": 1
           },
           {
            "bin_start": 720.765,
            "bin_end": 864.9179999999999,
            "count": 1
           },
           {
            "bin_start": 864.9179999999999,
            "bin_end": 1009.0709999999999,
            "count": 0
           },
           {
            "bin_start": 1009.0709999999999,
            "bin_end": 1153.224,
            "count": 0
           },
           {
            "bin_start": 1153.224,
            "bin_end": 1297.377,
            "count": 0
           },
           {
            "bin_start": 1297.377,
            "bin_end": 1441.53,
            "count": 1
           }
          ]
         }
        },
        {
         "name": "void_fraction",
         "dtype": "float64",
         "stats": {
          "unique_count": 5,
          "nan_count": 0,
          "min": "0.07778",
          "max": "0.21814",
          "histogram": [
           {
            "bin_start": 0.07778,
            "bin_end": 0.091816,
            "count": 2
           },
           {
            "bin_start": 0.091816,
            "bin_end": 0.105852,
            "count": 0
           },
           {
            "bin_start": 0.105852,
            "bin_end": 0.119888,
            "count": 0
           },
           {
            "bin_start": 0.119888,
            "bin_end": 0.133924,
            "count": 0
           },
           {
            "bin_start": 0.133924,
            "bin_end": 0.14795999999999998,
            "count": 1
           },
           {
            "bin_start": 0.14795999999999998,
            "bin_end": 0.16199599999999997,
            "count": 1
           },
           {
            "bin_start": 0.16199599999999997,
            "bin_end": 0.176032,
            "count": 0
           },
           {
            "bin_start": 0.176032,
            "bin_end": 0.190068,
            "count": 0
           },
           {
            "bin_start": 0.190068,
            "bin_end": 0.204104,
            "count": 0
           },
           {
            "bin_start": 0.204104,
            "bin_end": 0.21814,
            "count": 1
           }
          ]
         }
        },
        {
         "name": "void_volume [cm^3/g]",
         "dtype": "float64",
         "stats": {
          "unique_count": 5,
          "nan_count": 0,
          "min": "0.0591",
          "max": "0.222",
          "histogram": [
           {
            "bin_start": 0.0591,
            "bin_end": 0.07539,
            "count": 2
           },
           {
            "bin_start": 0.07539,
            "bin_end": 0.09168,
            "count": 0
           },
           {
            "bin_start": 0.09168,
            "bin_end": 0.10797,
            "count": 1
           },
           {
            "bin_start": 0.10797,
            "bin_end": 0.12426,
            "count": 0
           },
           {
            "bin_start": 0.12426,
            "bin_end": 0.14055,
            "count": 1
           },
           {
            "bin_start": 0.14055,
            "bin_end": 0.15683999999999998,
            "count": 0
           },
           {
            "bin_start": 0.15683999999999998,
            "bin_end": 0.17313,
            "count": 0
           },
           {
            "bin_start": 0.17313,
            "bin_end": 0.18941999999999998,
            "count": 0
           },
           {
            "bin_start": 0.18941999999999998,
            "bin_end": 0.20571,
            "count": 0
           },
           {
            "bin_start": 0.20571,
            "bin_end": 0.222,
            "count": 1
           }
          ]
         }
        },
        {
         "name": "functional_groups",
         "dtype": "object",
         "stats": {
          "unique_count": 5,
          "nan_count": 0,
          "categories": [
           {
            "name": "COOH-OEt",
            "count": 1
           },
           {
            "name": "F-OMe",
            "count": 1
           },
           {
            "name": "3 others",
            "count": 3
           }
          ]
         }
        },
        {
         "name": "metal_linker",
         "dtype": "int64",
         "stats": {
          "unique_count": 4,
          "nan_count": 0,
          "min": "2",
          "max": "10",
          "histogram": [
           {
            "bin_start": 2,
            "bin_end": 2.8,
            "count": 2
           },
           {
            "bin_start": 2.8,
            "bin_end": 3.6,
            "count": 1
           },
           {
            "bin_start": 3.6,
            "bin_end": 4.4,
            "count": 0
           },
           {
            "bin_start": 4.4,
            "bin_end": 5.2,
            "count": 0
           },
           {
            "bin_start": 5.2,
            "bin_end": 6,
            "count": 0
           },
           {
            "bin_start": 6,
            "bin_end": 6.800000000000001,
            "count": 0
           },
           {
            "bin_start": 6.800000000000001,
            "bin_end": 7.6000000000000005,
            "count": 0
           },
           {
            "bin_start": 7.6000000000000005,
            "bin_end": 8.4,
            "count": 0
           },
           {
            "bin_start": 8.4,
            "bin_end": 9.2,
            "count": 1
           },
           {
            "bin_start": 9.2,
            "bin_end": 10,
            "count": 1
           }
          ]
         }
        },
        {
         "name": "organic_linker1",
         "dtype": "int64",
         "stats": {
          "unique_count": 5,
          "nan_count": 0,
          "min": "1",
          "max": "44",
          "histogram": [
           {
            "bin_start": 1,
            "bin_end": 5.3,
            "count": 2
           },
           {
            "bin_start": 5.3,
            "bin_end": 9.6,
            "count": 0
           },
           {
            "bin_start": 9.6,
            "bin_end": 13.899999999999999,
            "count": 0
           },
           {
            "bin_start": 13.899999999999999,
            "bin_end": 18.2,
            "count": 1
           },
           {
            "bin_start": 18.2,
            "bin_end": 22.5,
            "count": 1
           },
           {
            "bin_start": 22.5,
            "bin_end": 26.799999999999997,
            "count": 0
           },
           {
            "bin_start": 26.799999999999997,
            "bin_end": 31.099999999999998,
            "count": 0
           },
           {
            "bin_start": 31.099999999999998,
            "bin_end": 35.4,
            "count": 0
           },
           {
            "bin_start": 35.4,
            "bin_end": 39.699999999999996,
            "count": 0
           },
           {
            "bin_start": 39.699999999999996,
            "bin_end": 44,
            "count": 1
           }
          ]
         }
        },
        {
         "name": "organic_linker2",
         "dtype": "int64",
         "stats": {
          "unique_count": 4,
          "nan_count": 0,
          "min": "11",
          "max": "57",
          "histogram": [
           {
            "bin_start": 11,
            "bin_end": 15.6,
            "count": 1
           },
           {
            "bin_start": 15.6,
            "bin_end": 20.2,
            "count": 0
           },
           {
            "bin_start": 20.2,
            "bin_end": 24.799999999999997,
            "count": 3
           },
           {
            "bin_start": 24.799999999999997,
            "bin_end": 29.4,
            "count": 0
           },
           {
            "bin_start": 29.4,
            "bin_end": 34,
            "count": 0
           },
           {
            "bin_start": 34,
            "bin_end": 38.599999999999994,
            "count": 0
           },
           {
            "bin_start": 38.599999999999994,
            "bin_end": 43.199999999999996,
            "count": 0
           },
           {
            "bin_start": 43.199999999999996,
            "bin_end": 47.8,
            "count": 0
           },
           {
            "bin_start": 47.8,
            "bin_end": 52.4,
            "count": 0
           },
           {
            "bin_start": 52.4,
            "bin_end": 57,
            "count": 1
           }
          ]
         }
        },
        {
         "name": "topology",
         "dtype": "object",
         "stats": {
          "unique_count": 3,
          "nan_count": 0,
          "categories": [
           {
            "name": "pcu",
            "count": 3
           },
           {
            "name": "etb",
            "count": 1
           },
           {
            "name": "sra",
            "count": 1
           }
          ]
         }
        },
        {
         "name": "CO2/N2_selectivity",
         "dtype": "float64",
         "stats": {
          "unique_count": 5,
          "nan_count": 0,
          "min": "19.26372569",
          "max": "33.61678033",
          "histogram": [
           {
            "bin_start": 19.26372569,
            "bin_end": 20.699031154,
            "count": 1
           },
           {
            "bin_start": 20.699031154,
            "bin_end": 22.134336618,
            "count": 0
           },
           {
            "bin_start": 22.134336618,
            "bin_end": 23.569642082,
            "count": 1
           },
           {
            "bin_start": 23.569642082,
            "bin_end": 25.004947546,
            "count": 0
           },
           {
            "bin_start": 25.004947546,
            "bin_end": 26.44025301,
            "count": 1
           },
           {
            "bin_start": 26.44025301,
            "bin_end": 27.875558473999998,
            "count": 0
           },
           {
            "bin_start": 27.875558473999998,
            "bin_end": 29.310863937999997,
            "count": 0
           },
           {
            "bin_start": 29.310863937999997,
            "bin_end": 30.746169402,
            "count": 1
           },
           {
            "bin_start": 30.746169402,
            "bin_end": 32.181474865999995,
            "count": 0
           },
           {
            "bin_start": 32.181474865999995,
            "bin_end": 33.61678033,
            "count": 1
           }
          ]
         }
        },
        {
         "name": "heat_adsorption_CO2_P0.15bar_T298K [kcal/mol]",
         "dtype": "float64",
         "stats": {
          "unique_count": 5,
          "nan_count": 0,
          "min": "6.190085",
          "max": "7.147286",
          "histogram": [
           {
            "bin_start": 6.190085,
            "bin_end": 6.2858051,
            "count": 1
           },
           {
            "bin_start": 6.2858051,
            "bin_end": 6.3815252,
            "count": 1
           },
           {
            "bin_start": 6.3815252,
            "bin_end": 6.4772453,
            "count": 0
           },
           {
            "bin_start": 6.4772453,
            "bin_end": 6.5729654,
            "count": 1
           },
           {
            "bin_start": 6.5729654,
            "bin_end": 6.6686855000000005,
            "count": 0
           },
           {
            "bin_start": 6.6686855000000005,
            "bin_end": 6.7644056,
            "count": 0
           },
           {
            "bin_start": 6.7644056,
            "bin_end": 6.8601257,
            "count": 1
           },
           {
            "bin_start": 6.8601257,
            "bin_end": 6.9558458000000005,
            "count": 0
           },
           {
            "bin_start": 6.9558458000000005,
            "bin_end": 7.0515659,
            "count": 0
           },
           {
            "bin_start": 7.0515659,
            "bin_end": 7.147286,
            "count": 1
           }
          ]
         }
        },
        {
         "name": "CO2_working_capacity [mL/g]",
         "dtype": "float64",
         "stats": {
          "unique_count": 5,
          "nan_count": 0,
          "min": "79.21000065588353",
          "max": "187.62600449626183",
          "histogram": [
           {
            "bin_start": 79.21000065588353,
            "bin_end": 90.05160103992137,
            "count": 1
           },
           {
            "bin_start": 90.05160103992137,
            "bin_end": 100.8932014239592,
            "count": 0
           },
           {
            "bin_start": 100.8932014239592,
            "bin_end": 111.73480180799702,
            "count": 2
           },
           {
            "bin_start": 111.73480180799702,
            "bin_end": 122.57640219203485,
            "count": 1
           },
           {
            "bin_start": 122.57640219203485,
            "bin_end": 133.4180025760727,
            "count": 0
           },
           {
            "bin_start": 133.4180025760727,
            "bin_end": 144.2596029601105,
            "count": 0
           },
           {
            "bin_start": 144.2596029601105,
            "bin_end": 155.10120334414833,
            "count": 0
           },
           {
            "bin_start": 155.10120334414833,
            "bin_end": 165.94280372818616,
            "count": 0
           },
           {
            "bin_start": 165.94280372818616,
            "bin_end": 176.784404112224,
            "count": 0
           },
           {
            "bin_start": 176.784404112224,
            "bin_end": 187.62600449626183,
            "count": 1
           }
          ]
         }
        },
        {
         "name": "_deepnote_index_column",
         "dtype": "object"
        }
       ],
       "rows_top": [
        {
         "volume [A^3]": 1116.667429,
         "weight [u]": 875.2405999999999,
         "surface_area [m^2/g]": 0,
         "void_fraction": 0.07899,
         "void_volume [cm^3/g]": 0.0606999999999999,
         "functional_groups": "COOH-OEt",
         "metal_linker": 3,
         "organic_linker1": 4,
         "organic_linker2": 11,
         "topology": "pcu",
         "CO2/N2_selectivity": 22.86416611,
         "heat_adsorption_CO2_P0.15bar_T298K [kcal/mol]": 6.786041,
         "CO2_working_capacity [mL/g]": 105.2845017241596,
         "_deepnote_index_column": "mof_unit_1"
        },
        {
         "volume [A^3]": 2769.503842,
         "weight [u]": 2211.697211,
         "surface_area [m^2/g]": 603.61,
         "void_fraction": 0.13794,
         "void_volume [cm^3/g]": 0.104,
         "functional_groups": "F-OMe",
         "metal_linker": 10,
         "organic_linker1": 44,
         "organic_linker2": 57,
         "topology": "etb",
         "CO2/N2_selectivity": 33.61678033,
         "heat_adsorption_CO2_P0.15bar_T298K [kcal/mol]": 7.147286,
         "CO2_working_capacity [mL/g]": 101.22477417834172,
         "_deepnote_index_column": "mof_unit_2"
        },
        {
         "volume [A^3]": 1089.818728,
         "weight [u]": 773.68796,
         "surface_area [m^2/g]": 788.5,
         "void_fraction": 0.14874,
         "void_volume [cm^3/g]": 0.1262,
         "functional_groups": "OMe-COOH",
         "metal_linker": 2,
         "organic_linker1": 22,
         "organic_linker2": 24,
         "topology": "pcu",
         "CO2/N2_selectivity": 19.26372569,
         "heat_adsorption_CO2_P0.15bar_T298K [kcal/mol]": 6.347967,
         "CO2_working_capacity [mL/g]": 118.98701074687752,
         "_deepnote_index_column": "mof_unit_3"
        },
        {
         "volume [A^3]": 2205.1983010000004,
         "weight [u]": 1304.63872,
         "surface_area [m^2/g]": 1441.53,
         "void_fraction": 0.21814,
         "void_volume [cm^3/g]": 0.222,
         "functional_groups": "H-SO3H",
         "metal_linker": 9,
         "organic_linker1": 17,
         "organic_linker2": 24,
         "topology": "sra",
         "CO2/N2_selectivity": 25.70137692,
         "heat_adsorption_CO2_P0.15bar_T298K [kcal/mol]": 6.190085,
         "CO2_working_capacity [mL/g]": 187.62600449626183,
         "_deepnote_index_column": "mof_unit_4"
        },
        {
         "volume [A^3]": 1137.800963,
         "weight [u]": 901.73612,
         "surface_area [m^2/g]": 0,
         "void_fraction": 0.07778,
         "void_volume [cm^3/g]": 0.0591,
         "functional_groups": "NHMe-OH",
         "metal_linker": 2,
         "organic_linker1": 1,
         "organic_linker2": 22,
         "topology": "pcu",
         "CO2/N2_selectivity": 30.00183795,
         "heat_adsorption_CO2_P0.15bar_T298K [kcal/mol]": 6.478063,
         "CO2_working_capacity [mL/g]": 79.21000065588353,
         "_deepnote_index_column": "mof_unit_5"
        }
       ],
       "rows_bottom": null
      },
      "text/plain": "            volume [A^3]   weight [u]  surface_area [m^2/g]  void_fraction  \\\nMOFname                                                                      \nmof_unit_1   1116.667429   875.240600                  0.00        0.07899   \nmof_unit_2   2769.503842  2211.697211                603.61        0.13794   \nmof_unit_3   1089.818728   773.687960                788.50        0.14874   \nmof_unit_4   2205.198301  1304.638720               1441.53        0.21814   \nmof_unit_5   1137.800963   901.736120                  0.00        0.07778   \n\n            void_volume [cm^3/g] functional_groups  metal_linker  \\\nMOFname                                                            \nmof_unit_1                0.0607          COOH-OEt             3   \nmof_unit_2                0.1040             F-OMe            10   \nmof_unit_3                0.1262          OMe-COOH             2   \nmof_unit_4                0.2220            H-SO3H             9   \nmof_unit_5                0.0591           NHMe-OH             2   \n\n            organic_linker1  organic_linker2 topology  CO2/N2_selectivity  \\\nMOFname                                                                     \nmof_unit_1                4               11      pcu           22.864166   \nmof_unit_2               44               57      etb           33.616780   \nmof_unit_3               22               24      pcu           19.263726   \nmof_unit_4               17               24      sra           25.701377   \nmof_unit_5                1               22      pcu           30.001838   \n\n            heat_adsorption_CO2_P0.15bar_T298K [kcal/mol]  \\\nMOFname                                                     \nmof_unit_1                                       6.786041   \nmof_unit_2                                       7.147286   \nmof_unit_3                                       6.347967   \nmof_unit_4                                       6.190085   \nmof_unit_5                                       6.478063   \n\n            CO2_working_capacity [mL/g]  \nMOFname                                  \nmof_unit_1                   105.284502  \nmof_unit_2                   101.224774  \nmof_unit_3                   118.987011  \nmof_unit_4                   187.626004  \nmof_unit_5                    79.210001  ",
      "text/html": "<div>\n<style scoped>\n    .dataframe tbody tr th:only-of-type {\n        vertical-align: middle;\n    }\n\n    .dataframe tbody tr th {\n        vertical-align: top;\n    }\n\n    .dataframe thead th {\n        text-align: right;\n    }\n</style>\n<table border=\"1\" class=\"dataframe\">\n  <thead>\n    <tr style=\"text-align: right;\">\n      <th></th>\n      <th>volume [A^3]</th>\n      <th>weight [u]</th>\n      <th>surface_area [m^2/g]</th>\n      <th>void_fraction</th>\n      <th>void_volume [cm^3/g]</th>\n      <th>functional_groups</th>\n      <th>metal_linker</th>\n      <th>organic_linker1</th>\n      <th>organic_linker2</th>\n      <th>topology</th>\n      <th>CO2/N2_selectivity</th>\n      <th>heat_adsorption_CO2_P0.15bar_T298K [kcal/mol]</th>\n      <th>CO2_working_capacity [mL/g]</th>\n    </tr>\n    <tr>\n      <th>MOFname</th>\n      <th></th>\n      <th></th>\n      <th></th>\n      <th></th>\n      <th></th>\n      <th></th>\n      <th></th>\n      <th></th>\n      <th></th>\n      <th></th>\n      <th></th>\n      <th></th>\n      <th></th>\n    </tr>\n  </thead>\n  <tbody>\n    <tr>\n      <th>mof_unit_1</th>\n      <td>1116.667429</td>\n      <td>875.240600</td>\n      <td>0.00</td>\n      <td>0.07899</td>\n      <td>0.0607</td>\n      <td>COOH-OEt</td>\n      <td>3</td>\n      <td>4</td>\n      <td>11</td>\n      <td>pcu</td>\n      <td>22.864166</td>\n      <td>6.786041</td>\n      <td>105.284502</td>\n    </tr>\n    <tr>\n      <th>mof_unit_2</th>\n      <td>2769.503842</td>\n      <td>2211.697211</td>\n      <td>603.61</td>\n      <td>0.13794</td>\n      <td>0.1040</td>\n      <td>F-OMe</td>\n      <td>10</td>\n      <td>44</td>\n      <td>57</td>\n      <td>etb</td>\n      <td>33.616780</td>\n      <td>7.147286</td>\n      <td>101.224774</td>\n    </tr>\n    <tr>\n      <th>mof_unit_3</th>\n      <td>1089.818728</td>\n      <td>773.687960</td>\n      <td>788.50</td>\n      <td>0.14874</td>\n      <td>0.1262</td>\n      <td>OMe-COOH</td>\n      <td>2</td>\n      <td>22</td>\n      <td>24</td>\n      <td>pcu</td>\n      <td>19.263726</td>\n      <td>6.347967</td>\n      <td>118.987011</td>\n    </tr>\n    <tr>\n      <th>mof_unit_4</th>\n      <td>2205.198301</td>\n      <td>1304.638720</td>\n      <td>1441.53</td>\n      <td>0.21814</td>\n      <td>0.2220</td>\n      <td>H-SO3H</td>\n      <td>9</td>\n      <td>17</td>\n      <td>24</td>\n      <td>sra</td>\n      <td>25.701377</td>\n      <td>6.190085</td>\n      <td>187.626004</td>\n    </tr>\n    <tr>\n      <th>mof_unit_5</th>\n      <td>1137.800963</td>\n      <td>901.736120</td>\n      <td>0.00</td>\n      <td>0.07778</td>\n      <td>0.0591</td>\n      <td>NHMe-OH</td>\n      <td>2</td>\n      <td>1</td>\n      <td>22</td>\n      <td>pcu</td>\n      <td>30.001838</td>\n      <td>6.478063</td>\n      <td>79.210001</td>\n    </tr>\n  </tbody>\n</table>\n</div>"
     },
     "metadata": {}
    }
   ],
   "execution_count": null
  },
  {
   "cell_type": "code",
   "metadata": {
    "tags": [],
    "cell_id": "00004-39b0cce8-7364-472f-918e-ce0c6d23113e",
    "deepnote_to_be_reexecuted": false,
    "source_hash": "db3eab5",
    "execution_start": 1634386052226,
    "execution_millis": 36,
    "deepnote_cell_type": "code"
   },
   "source": "test_data_edit = pd.concat([test_data_full,data_atom[0]],axis=1) \ntrain_data_edit = pd.concat([train_data_full,data_atom[1]],axis=1) \n",
   "outputs": [],
   "execution_count": null
  },
  {
   "cell_type": "code",
   "source": "test_data_edit.reset_index().rename(columns={'index':'MOFname'})\ntrain_data_edit.reset_index().rename(columns={'index':'MOFname'})",
   "metadata": {
    "tags": [],
    "cell_id": "00007-14960ab3-e027-4f5c-b71d-4d0c971de0ce",
    "deepnote_to_be_reexecuted": false,
    "source_hash": "e35dcdeb",
    "execution_start": 1634387453135,
    "execution_millis": 140,
    "deepnote_cell_type": "code"
   },
   "outputs": [
    {
     "output_type": "execute_result",
     "execution_count": 23,
     "data": {
      "application/vnd.deepnote.dataframe.v2+json": {
       "row_count": 68613,
       "column_count": 31,
       "columns": [
        {
         "name": "MOFname",
         "dtype": "object",
         "stats": {
          "unique_count": 68613,
          "nan_count": 0,
          "categories": [
           {
            "name": "mof_unit_1",
            "count": 1
           },
           {
            "name": "mof_unit_2",
            "count": 1
           },
           {
            "name": "68611 others",
            "count": 68611
           }
          ]
         }
        },
        {
         "name": "volume [A^3]",
         "dtype": "float64"
        },
        {
         "name": "weight [u]",
         "dtype": "float64"
        },
        {
         "name": "surface_area [m^2/g]",
         "dtype": "float64"
        },
        {
         "name": "void_fraction",
         "dtype": "float64"
        },
        {
         "name": "void_volume [cm^3/g]",
         "dtype": "float64"
        },
        {
         "name": "functional_groups",
         "dtype": "object"
        },
        {
         "name": "metal_linker",
         "dtype": "int64"
        },
        {
         "name": "organic_linker1",
         "dtype": "int64"
        },
        {
         "name": "organic_linker2",
         "dtype": "int64"
        },
        {
         "name": "topology",
         "dtype": "object"
        },
        {
         "name": "CO2/N2_selectivity",
         "dtype": "float64"
        },
        {
         "name": "heat_adsorption_CO2_P0.15bar_T298K [kcal/mol]",
         "dtype": "float64"
        },
        {
         "name": "CO2_working_capacity [mL/g]",
         "dtype": "float64"
        },
        {
         "name": "cif_H",
         "dtype": "int64"
        },
        {
         "name": "cif_B",
         "dtype": "int64"
        },
        {
         "name": "cif_C",
         "dtype": "int64"
        },
        {
         "name": "cif_N",
         "dtype": "int64"
        },
        {
         "name": "cif_O",
         "dtype": "int64"
        },
        {
         "name": "cif_F",
         "dtype": "int64"
        },
        {
         "name": "cif_P",
         "dtype": "int64"
        },
        {
         "name": "cif_S",
         "dtype": "int64"
        },
        {
         "name": "cif_Cl",
         "dtype": "int64"
        },
        {
         "name": "cif_V",
         "dtype": "int64"
        },
        {
         "name": "cif_Cr",
         "dtype": "int64"
        },
        {
         "name": "cif_Ni",
         "dtype": "int64"
        },
        {
         "name": "cif_Cu",
         "dtype": "int64"
        },
        {
         "name": "cif_Zn",
         "dtype": "int64"
        },
        {
         "name": "cif_Br",
         "dtype": "int64"
        },
        {
         "name": "cif_I",
         "dtype": "int64"
        },
        {
         "name": "cif_Ba",
         "dtype": "int64"
        },
        {
         "name": "_deepnote_index_column",
         "dtype": "int64"
        }
       ],
       "rows_top": [
        {
         "MOFname": "mof_unit_1",
         "volume [A^3]": 1116.667429,
         "weight [u]": 875.2405999999999,
         "surface_area [m^2/g]": 0,
         "void_fraction": 0.07899,
         "void_volume [cm^3/g]": 0.0606999999999999,
         "functional_groups": "COOH-OEt",
         "metal_linker": 3,
         "organic_linker1": 4,
         "organic_linker2": 11,
         "topology": "pcu",
         "CO2/N2_selectivity": 22.86416611,
         "heat_adsorption_CO2_P0.15bar_T298K [kcal/mol]": 6.786041,
         "CO2_working_capacity [mL/g]": 105.2845017241596,
         "cif_H": 20,
         "cif_B": 0,
         "cif_C": 30,
         "cif_N": 2,
         "cif_O": 21,
         "cif_F": 0,
         "cif_P": 0,
         "cif_S": 0,
         "cif_Cl": 0,
         "cif_V": 0,
         "cif_Cr": 0,
         "cif_Ni": 0,
         "cif_Cu": 0,
         "cif_Zn": 2,
         "cif_Br": 0,
         "cif_I": 0,
         "cif_Ba": 0,
         "_deepnote_index_column": 0
        },
        {
         "MOFname": "mof_unit_2",
         "volume [A^3]": 2769.503842,
         "weight [u]": 2211.697211,
         "surface_area [m^2/g]": 603.61,
         "void_fraction": 0.13794,
         "void_volume [cm^3/g]": 0.104,
         "functional_groups": "F-OMe",
         "metal_linker": 10,
         "organic_linker1": 44,
         "organic_linker2": 57,
         "topology": "etb",
         "CO2/N2_selectivity": 33.61678033,
         "heat_adsorption_CO2_P0.15bar_T298K [kcal/mol]": 7.147286,
         "CO2_working_capacity [mL/g]": 101.22477417834172,
         "cif_H": 67,
         "cif_B": 2,
         "cif_C": 71,
         "cif_N": 0,
         "cif_O": 35,
         "cif_F": 11,
         "cif_P": 8,
         "cif_S": 0,
         "cif_Cl": 0,
         "cif_V": 0,
         "cif_Cr": 0,
         "cif_Ni": 0,
         "cif_Cu": 0,
         "cif_Zn": 0,
         "cif_Br": 0,
         "cif_I": 0,
         "cif_Ba": 2,
         "_deepnote_index_column": 1
        },
        {
         "MOFname": "mof_unit_3",
         "volume [A^3]": 1089.818728,
         "weight [u]": 773.68796,
         "surface_area [m^2/g]": 788.5,
         "void_fraction": 0.14874,
         "void_volume [cm^3/g]": 0.1262,
         "functional_groups": "OMe-COOH",
         "metal_linker": 2,
         "organic_linker1": 22,
         "organic_linker2": 24,
         "topology": "pcu",
         "CO2/N2_selectivity": 19.26372569,
         "heat_adsorption_CO2_P0.15bar_T298K [kcal/mol]": 6.347967,
         "CO2_working_capacity [mL/g]": 118.98701074687752,
         "cif_H": 34,
         "cif_B": 0,
         "cif_C": 32,
         "cif_N": 2,
         "cif_O": 14,
         "cif_F": 0,
         "cif_P": 0,
         "cif_S": 0,
         "cif_Cl": 0,
         "cif_V": 0,
         "cif_Cr": 0,
         "cif_Ni": 0,
         "cif_Cu": 2,
         "cif_Zn": 0,
         "cif_Br": 0,
         "cif_I": 0,
         "cif_Ba": 0,
         "_deepnote_index_column": 2
        },
        {
         "MOFname": "mof_unit_4",
         "volume [A^3]": 2205.1983010000004,
         "weight [u]": 1304.63872,
         "surface_area [m^2/g]": 1441.53,
         "void_fraction": 0.21814,
         "void_volume [cm^3/g]": 0.222,
         "functional_groups": "H-SO3H",
         "metal_linker": 9,
         "organic_linker1": 17,
         "organic_linker2": 24,
         "topology": "sra",
         "CO2/N2_selectivity": 25.70137692,
         "heat_adsorption_CO2_P0.15bar_T298K [kcal/mol]": 6.190085,
         "CO2_working_capacity [mL/g]": 187.62600449626183,
         "cif_H": 28,
         "cif_B": 0,
         "cif_C": 56,
         "cif_N": 0,
         "cif_O": 23,
         "cif_F": 0,
         "cif_P": 0,
         "cif_S": 1,
         "cif_Cl": 0,
         "cif_V": 4,
         "cif_Cr": 0,
         "cif_Ni": 0,
         "cif_Cu": 0,
         "cif_Zn": 0,
         "cif_Br": 0,
         "cif_I": 0,
         "cif_Ba": 0,
         "_deepnote_index_column": 3
        },
        {
         "MOFname": "mof_unit_5",
         "volume [A^3]": 1137.800963,
         "weight [u]": 901.73612,
         "surface_area [m^2/g]": 0,
         "void_fraction": 0.07778,
         "void_volume [cm^3/g]": 0.0591,
         "functional_groups": "NHMe-OH",
         "metal_linker": 2,
         "organic_linker1": 1,
         "organic_linker2": 22,
         "topology": "pcu",
         "CO2/N2_selectivity": 30.00183795,
         "heat_adsorption_CO2_P0.15bar_T298K [kcal/mol]": 6.478063,
         "CO2_working_capacity [mL/g]": 79.21000065588353,
         "cif_H": 38,
         "cif_B": 0,
         "cif_C": 30,
         "cif_N": 8,
         "cif_O": 18,
         "cif_F": 0,
         "cif_P": 0,
         "cif_S": 0,
         "cif_Cl": 0,
         "cif_V": 0,
         "cif_Cr": 0,
         "cif_Ni": 0,
         "cif_Cu": 2,
         "cif_Zn": 0,
         "cif_Br": 0,
         "cif_I": 0,
         "cif_Ba": 0,
         "_deepnote_index_column": 4
        },
        {
         "MOFname": "mof_unit_6",
         "volume [A^3]": 3954.659761,
         "weight [u]": 1543.02768,
         "surface_area [m^2/g]": 2430.55,
         "void_fraction": 0.3709399999999999,
         "void_volume [cm^3/g]": 0.5725,
         "functional_groups": "Pr-NO2",
         "metal_linker": 9,
         "organic_linker1": 7,
         "organic_linker2": 23,
         "topology": "sra",
         "CO2/N2_selectivity": 17.14654102,
         "heat_adsorption_CO2_P0.15bar_T298K [kcal/mol]": 5.398304,
         "CO2_working_capacity [mL/g]": 55.7869591021412,
         "cif_H": 62,
         "cif_B": 0,
         "cif_C": 72,
         "cif_N": 2,
         "cif_O": 24,
         "cif_F": 0,
         "cif_P": 0,
         "cif_S": 0,
         "cif_Cl": 0,
         "cif_V": 4,
         "cif_Cr": 0,
         "cif_Ni": 0,
         "cif_Cu": 0,
         "cif_Zn": 0,
         "cif_Br": 0,
         "cif_I": 0,
         "cif_Ba": 0,
         "_deepnote_index_column": 5
        },
        {
         "MOFname": "mof_unit_7",
         "volume [A^3]": 3565.914939,
         "weight [u]": 1954.749656,
         "surface_area [m^2/g]": 1530.02,
         "void_fraction": 0.33337,
         "void_volume [cm^3/g]": 0.3662,
         "functional_groups": "NH2",
         "metal_linker": 10,
         "organic_linker1": 53,
         "organic_linker2": 55,
         "topology": "etb",
         "CO2/N2_selectivity": 18.36379134,
         "heat_adsorption_CO2_P0.15bar_T298K [kcal/mol]": 6.303857,
         "CO2_working_capacity [mL/g]": 111.69046224719489,
         "cif_H": 69,
         "cif_B": 2,
         "cif_C": 68,
         "cif_N": 7,
         "cif_O": 28,
         "cif_F": 0,
         "cif_P": 8,
         "cif_S": 0,
         "cif_Cl": 0,
         "cif_V": 0,
         "cif_Cr": 0,
         "cif_Ni": 0,
         "cif_Cu": 0,
         "cif_Zn": 0,
         "cif_Br": 0,
         "cif_I": 0,
         "cif_Ba": 2,
         "_deepnote_index_column": 6
        },
        {
         "MOFname": "mof_unit_8",
         "volume [A^3]": 916.0439070000001,
         "weight [u]": 639.11156,
         "surface_area [m^2/g]": 1685.58,
         "void_fraction": 0.28458,
         "void_volume [cm^3/g]": 0.2456,
         "functional_groups": "Br",
         "metal_linker": 2,
         "organic_linker1": 5,
         "organic_linker2": 13,
         "topology": "pcu",
         "CO2/N2_selectivity": 12.68480443,
         "heat_adsorption_CO2_P0.15bar_T298K [kcal/mol]": 5.234732,
         "CO2_working_capacity [mL/g]": 58.989774287110805,
         "cif_H": 4,
         "cif_B": 2,
         "cif_C": 18,
         "cif_N": 2,
         "cif_O": 8,
         "cif_F": 0,
         "cif_P": 0,
         "cif_S": 0,
         "cif_Cl": 0,
         "cif_V": 0,
         "cif_Cr": 0,
         "cif_Ni": 0,
         "cif_Cu": 2,
         "cif_Zn": 0,
         "cif_Br": 2,
         "cif_I": 0,
         "cif_Ba": 0,
         "_deepnote_index_column": 7
        },
        {
         "MOFname": "mof_unit_9",
         "volume [A^3]": 2228.882339,
         "weight [u]": 1422.69182,
         "surface_area [m^2/g]": 1458.02,
         "void_fraction": 0.2427699999999999,
         "void_volume [cm^3/g]": 0.2291,
         "functional_groups": "HCO",
         "metal_linker": 4,
         "organic_linker1": 14,
         "organic_linker2": 19,
         "topology": "acs",
         "CO2/N2_selectivity": 37.04042435,
         "heat_adsorption_CO2_P0.15bar_T298K [kcal/mol]": 6.298964,
         "CO2_working_capacity [mL/g]": 135.58710841724886,
         "cif_H": 18,
         "cif_B": 0,
         "cif_C": 61,
         "cif_N": 0,
         "cif_O": 27,
         "cif_F": 0,
         "cif_P": 0,
         "cif_S": 0,
         "cif_Cl": 0,
         "cif_V": 0,
         "cif_Cr": 6,
         "cif_Ni": 0,
         "cif_Cu": 0,
         "cif_Zn": 0,
         "cif_Br": 0,
         "cif_I": 0,
         "cif_Ba": 0,
         "_deepnote_index_column": 8
        },
        {
         "MOFname": "mof_unit_10",
         "volume [A^3]": 4275.421420000001,
         "weight [u]": 1606.196,
         "surface_area [m^2/g]": 3276.11,
         "void_fraction": 0.4100399999999999,
         "void_volume [cm^3/g]": 0.6573,
         "functional_groups": "NHMe-OH",
         "metal_linker": 3,
         "organic_linker1": 13,
         "organic_linker2": 29,
         "topology": "pcu",
         "CO2/N2_selectivity": 10.9992991,
         "heat_adsorption_CO2_P0.15bar_T298K [kcal/mol]": 5.539327,
         "CO2_working_capacity [mL/g]": 59.73905673864041,
         "cif_H": 70,
         "cif_B": 0,
         "cif_C": 72,
         "cif_N": 18,
         "cif_O": 18,
         "cif_F": 0,
         "cif_P": 0,
         "cif_S": 0,
         "cif_Cl": 0,
         "cif_V": 0,
         "cif_Cr": 0,
         "cif_Ni": 0,
         "cif_Cu": 0,
         "cif_Zn": 2,
         "cif_Br": 0,
         "cif_I": 0,
         "cif_Ba": 0,
         "_deepnote_index_column": 9
        },
        {
         "MOFname": "mof_unit_11",
         "volume [A^3]": 1607.935338,
         "weight [u]": 1110.38712,
         "surface_area [m^2/g]": 1098.36,
         "void_fraction": 0.18787,
         "void_volume [cm^3/g]": 0.1638,
         "functional_groups": "SO3H",
         "metal_linker": 9,
         "organic_linker1": 1,
         "organic_linker2": 24,
         "topology": "sra",
         "CO2/N2_selectivity": 24.25902464,
         "heat_adsorption_CO2_P0.15bar_T298K [kcal/mol]": 5.926444,
         "CO2_working_capacity [mL/g]": 161.06749898914796,
         "cif_H": 18,
         "cif_B": 0,
         "cif_C": 34,
         "cif_N": 0,
         "cif_O": 26,
         "cif_F": 0,
         "cif_P": 0,
         "cif_S": 2,
         "cif_Cl": 0,
         "cif_V": 4,
         "cif_Cr": 0,
         "cif_Ni": 0,
         "cif_Cu": 0,
         "cif_Zn": 0,
         "cif_Br": 0,
         "cif_I": 0,
         "cif_Ba": 0,
         "_deepnote_index_column": 10
        },
        {
         "MOFname": "mof_unit_12",
         "volume [A^3]": 1175.47586,
         "weight [u]": 1397.05128,
         "surface_area [m^2/g]": 0,
         "void_fraction": 0.05704,
         "void_volume [cm^3/g]": 0.0288999999999999,
         "functional_groups": "Me-Br",
         "metal_linker": 2,
         "organic_linker1": 22,
         "organic_linker2": 24,
         "topology": "pcu",
         "CO2/N2_selectivity": 58.10697445,
         "heat_adsorption_CO2_P0.15bar_T298K [kcal/mol]": 7.4078979999999985,
         "CO2_working_capacity [mL/g]": 101.96481234318138,
         "cif_H": 42,
         "cif_B": 8,
         "cif_C": 38,
         "cif_N": 2,
         "cif_O": 8,
         "cif_F": 0,
         "cif_P": 0,
         "cif_S": 0,
         "cif_Cl": 0,
         "cif_V": 0,
         "cif_Cr": 0,
         "cif_Ni": 0,
         "cif_Cu": 2,
         "cif_Zn": 0,
         "cif_Br": 8,
         "cif_I": 0,
         "cif_Ba": 0,
         "_deepnote_index_column": 11
        },
        {
         "MOFname": "mof_unit_13",
         "volume [A^3]": 1650.879383,
         "weight [u]": 796.6896799999998,
         "surface_area [m^2/g]": 2117.01,
         "void_fraction": 0.3040499999999999,
         "void_volume [cm^3/g]": 0.3794,
         "functional_groups": "NHMe-NO2",
         "metal_linker": 2,
         "organic_linker1": 4,
         "organic_linker2": 6,
         "topology": "pcu",
         "CO2/N2_selectivity": 12.99674112,
         "heat_adsorption_CO2_P0.15bar_T298K [kcal/mol]": 4.936655,
         "CO2_working_capacity [mL/g]": 79.91916950624072,
         "cif_H": 27,
         "cif_B": 0,
         "cif_C": 34,
         "cif_N": 7,
         "cif_O": 10,
         "cif_F": 0,
         "cif_P": 0,
         "cif_S": 0,
         "cif_Cl": 0,
         "cif_V": 0,
         "cif_Cr": 0,
         "cif_Ni": 0,
         "cif_Cu": 2,
         "cif_Zn": 0,
         "cif_Br": 0,
         "cif_I": 0,
         "cif_Ba": 0,
         "_deepnote_index_column": 12
        },
        {
         "MOFname": "mof_unit_14",
         "volume [A^3]": 1071.619874,
         "weight [u]": 701.6286,
         "surface_area [m^2/g]": 0,
         "void_fraction": 0.10455,
         "void_volume [cm^3/g]": 0.0961999999999999,
         "functional_groups": "OEt-CN",
         "metal_linker": 2,
         "organic_linker1": 12,
         "organic_linker2": 22,
         "topology": "pcu",
         "CO2/N2_selectivity": 31.66445559,
         "heat_adsorption_CO2_P0.15bar_T298K [kcal/mol]": 7.427183,
         "CO2_working_capacity [mL/g]": 133.3711208364308,
         "cif_H": 30,
         "cif_B": 0,
         "cif_C": 28,
         "cif_N": 4,
         "cif_O": 11,
         "cif_F": 0,
         "cif_P": 0,
         "cif_S": 0,
         "cif_Cl": 0,
         "cif_V": 0,
         "cif_Cr": 0,
         "cif_Ni": 0,
         "cif_Cu": 2,
         "cif_Zn": 0,
         "cif_Br": 0,
         "cif_I": 0,
         "cif_Ba": 0,
         "_deepnote_index_column": 13
        },
        {
         "MOFname": "mof_unit_15",
         "volume [A^3]": 1769.973982,
         "weight [u]": 945.403413,
         "surface_area [m^2/g]": 1870.11,
         "void_fraction": 0.27705,
         "void_volume [cm^3/g]": 0.3124,
         "functional_groups": "F-OMe",
         "metal_linker": 3,
         "organic_linker1": 4,
         "organic_linker2": 26,
         "topology": "pcu",
         "CO2/N2_selectivity": 17.01166312,
         "heat_adsorption_CO2_P0.15bar_T298K [kcal/mol]": 5.139598,
         "CO2_working_capacity [mL/g]": 62.32762208837283,
         "cif_H": 30,
         "cif_B": 0,
         "cif_C": 38,
         "cif_N": 2,
         "cif_O": 14,
         "cif_F": 4,
         "cif_P": 0,
         "cif_S": 0,
         "cif_Cl": 0,
         "cif_V": 0,
         "cif_Cr": 0,
         "cif_Ni": 0,
         "cif_Cu": 0,
         "cif_Zn": 2,
         "cif_Br": 0,
         "cif_I": 0,
         "cif_Ba": 0,
         "_deepnote_index_column": 14
        },
        {
         "MOFname": "mof_unit_16",
         "volume [A^3]": 4282.561071,
         "weight [u]": 2478.166816,
         "surface_area [m^2/g]": 1294.48,
         "void_fraction": 0.2860699999999999,
         "void_volume [cm^3/g]": 0.2977,
         "functional_groups": "OMe-NH2",
         "metal_linker": 10,
         "organic_linker1": 52,
         "organic_linker2": 54,
         "topology": "etb",
         "CO2/N2_selectivity": 19.28955582,
         "heat_adsorption_CO2_P0.15bar_T298K [kcal/mol]": 5.867149,
         "CO2_working_capacity [mL/g]": 54.93615457357025,
         "cif_H": 98,
         "cif_B": 2,
         "cif_C": 78,
         "cif_N": 20,
         "cif_O": 40,
         "cif_F": 0,
         "cif_P": 8,
         "cif_S": 0,
         "cif_Cl": 0,
         "cif_V": 0,
         "cif_Cr": 0,
         "cif_Ni": 0,
         "cif_Cu": 0,
         "cif_Zn": 0,
         "cif_Br": 0,
         "cif_I": 0,
         "cif_Ba": 2,
         "_deepnote_index_column": 15
        }
       ],
       "rows_bottom": [
        {
         "MOFname": "mof_unit_68598",
         "volume [A^3]": 1621.161289,
         "weight [u]": 1292.77096,
         "surface_area [m^2/g]": 0,
         "void_fraction": 0,
         "void_volume [cm^3/g]": 0,
         "functional_groups": "Me-OEt",
         "metal_linker": 9,
         "organic_linker1": 12,
         "organic_linker2": 12,
         "topology": "sra",
         "CO2/N2_selectivity": 4082.551111,
         "heat_adsorption_CO2_P0.15bar_T298K [kcal/mol]": "nan",
         "CO2_working_capacity [mL/g]": -4.267228766697491,
         "cif_H": 64,
         "cif_B": 0,
         "cif_C": 48,
         "cif_N": 0,
         "cif_O": 28,
         "cif_F": 0,
         "cif_P": 0,
         "cif_S": 0,
         "cif_Cl": 0,
         "cif_V": 4,
         "cif_Cr": 0,
         "cif_Ni": 0,
         "cif_Cu": 0,
         "cif_Zn": 0,
         "cif_Br": 0,
         "cif_I": 0,
         "cif_Ba": 0,
         "_deepnote_index_column": 68597
        },
        {
         "MOFname": "mof_unit_68599",
         "volume [A^3]": 1716.981598,
         "weight [u]": 2211.8456,
         "surface_area [m^2/g]": 0,
         "void_fraction": 0,
         "void_volume [cm^3/g]": 0,
         "functional_groups": "Br-COOH",
         "metal_linker": 9,
         "organic_linker1": 22,
         "organic_linker2": 22,
         "topology": "sra",
         "CO2/N2_selectivity": 0,
         "heat_adsorption_CO2_P0.15bar_T298K [kcal/mol]": "nan",
         "CO2_working_capacity [mL/g]": -4.289844253778246,
         "cif_H": 40,
         "cif_B": 8,
         "cif_C": 52,
         "cif_N": 0,
         "cif_O": 44,
         "cif_F": 0,
         "cif_P": 0,
         "cif_S": 0,
         "cif_Cl": 0,
         "cif_V": 4,
         "cif_Cr": 0,
         "cif_Ni": 0,
         "cif_Cu": 0,
         "cif_Zn": 0,
         "cif_Br": 8,
         "cif_I": 0,
         "cif_Ba": 0,
         "_deepnote_index_column": 68598
        },
        {
         "MOFname": "mof_unit_68600",
         "volume [A^3]": 1174.62717,
         "weight [u]": 1649.17081,
         "surface_area [m^2/g]": 0,
         "void_fraction": 0,
         "void_volume [cm^3/g]": 0,
         "functional_groups": "COOH-I",
         "metal_linker": 2,
         "organic_linker1": 14,
         "organic_linker2": 22,
         "topology": "pcu",
         "CO2/N2_selectivity": 2276.833333,
         "heat_adsorption_CO2_P0.15bar_T298K [kcal/mol]": "nan",
         "CO2_working_capacity [mL/g]": -4.46383493540684,
         "cif_H": 19,
         "cif_B": 0,
         "cif_C": 40,
         "cif_N": 2,
         "cif_O": 24,
         "cif_F": 0,
         "cif_P": 0,
         "cif_S": 0,
         "cif_Cl": 0,
         "cif_V": 0,
         "cif_Cr": 0,
         "cif_Ni": 0,
         "cif_Cu": 2,
         "cif_Zn": 0,
         "cif_Br": 0,
         "cif_I": 5,
         "cif_Ba": 0,
         "_deepnote_index_column": 68599
        },
        {
         "MOFname": "mof_unit_68601",
         "volume [A^3]": 1132.348176,
         "weight [u]": 903.87744,
         "surface_area [m^2/g]": 0,
         "void_fraction": 0,
         "void_volume [cm^3/g]": 0,
         "functional_groups": "OEt",
         "metal_linker": 2,
         "organic_linker1": 9,
         "organic_linker2": 12,
         "topology": "pcu",
         "CO2/N2_selectivity": 546.3466667,
         "heat_adsorption_CO2_P0.15bar_T298K [kcal/mol]": "nan",
         "CO2_working_capacity [mL/g]": -5.648259167555951,
         "cif_H": 36,
         "cif_B": 0,
         "cif_C": 48,
         "cif_N": 2,
         "cif_O": 10,
         "cif_F": 0,
         "cif_P": 0,
         "cif_S": 0,
         "cif_Cl": 0,
         "cif_V": 0,
         "cif_Cr": 0,
         "cif_Ni": 0,
         "cif_Cu": 2,
         "cif_Zn": 0,
         "cif_Br": 0,
         "cif_I": 0,
         "cif_Ba": 0,
         "_deepnote_index_column": 68600
        },
        {
         "MOFname": "mof_unit_68602",
         "volume [A^3]": 1131.069889,
         "weight [u]": 895.9516800000001,
         "surface_area [m^2/g]": 0,
         "void_fraction": 0,
         "void_volume [cm^3/g]": 0,
         "functional_groups": "NHMe-OEt",
         "metal_linker": 2,
         "organic_linker1": 4,
         "organic_linker2": 22,
         "topology": "pcu",
         "CO2/N2_selectivity": 454.265353,
         "heat_adsorption_CO2_P0.15bar_T298K [kcal/mol]": "nan",
         "CO2_working_capacity [mL/g]": -5.789564692673669,
         "cif_H": 52,
         "cif_B": 0,
         "cif_C": 38,
         "cif_N": 10,
         "cif_O": 9,
         "cif_F": 0,
         "cif_P": 0,
         "cif_S": 0,
         "cif_Cl": 0,
         "cif_V": 0,
         "cif_Cr": 0,
         "cif_Ni": 0,
         "cif_Cu": 2,
         "cif_Zn": 0,
         "cif_Br": 0,
         "cif_I": 0,
         "cif_Ba": 0,
         "_deepnote_index_column": 68601
        },
        {
         "MOFname": "mof_unit_68603",
         "volume [A^3]": 1046.560841,
         "weight [u]": 967.52096,
         "surface_area [m^2/g]": 0,
         "void_fraction": 0,
         "void_volume [cm^3/g]": 0,
         "functional_groups": "CN-Ph",
         "metal_linker": 3,
         "organic_linker1": 10,
         "organic_linker2": 17,
         "topology": "pcu",
         "CO2/N2_selectivity": 0,
         "heat_adsorption_CO2_P0.15bar_T298K [kcal/mol]": "nan",
         "CO2_working_capacity [mL/g]": -6.190205474753933,
         "cif_H": 24,
         "cif_B": 0,
         "cif_C": 50,
         "cif_N": 6,
         "cif_O": 8,
         "cif_F": 0,
         "cif_P": 0,
         "cif_S": 0,
         "cif_Cl": 0,
         "cif_V": 0,
         "cif_Cr": 0,
         "cif_Ni": 0,
         "cif_Cu": 0,
         "cif_Zn": 2,
         "cif_Br": 0,
         "cif_I": 0,
         "cif_Ba": 0,
         "_deepnote_index_column": 68602
        },
        {
         "MOFname": "mof_unit_68604",
         "volume [A^3]": 699.494867,
         "weight [u]": 653.1773599999999,
         "surface_area [m^2/g]": 0,
         "void_fraction": 0,
         "void_volume [cm^3/g]": 0,
         "functional_groups": "SO3H-Me",
         "metal_linker": 3,
         "organic_linker1": 10,
         "organic_linker2": 24,
         "topology": "pcu",
         "CO2/N2_selectivity": 15.60473156,
         "heat_adsorption_CO2_P0.15bar_T298K [kcal/mol]": "nan",
         "CO2_working_capacity [mL/g]": -6.788277808283721,
         "cif_H": 14,
         "cif_B": 0,
         "cif_C": 16,
         "cif_N": 2,
         "cif_O": 14,
         "cif_F": 0,
         "cif_P": 0,
         "cif_S": 2,
         "cif_Cl": 0,
         "cif_V": 0,
         "cif_Cr": 0,
         "cif_Ni": 0,
         "cif_Cu": 0,
         "cif_Zn": 2,
         "cif_Br": 0,
         "cif_I": 0,
         "cif_Ba": 0,
         "_deepnote_index_column": 68603
        },
        {
         "MOFname": "mof_unit_68605",
         "volume [A^3]": 1508.12951,
         "weight [u]": 1517.382416,
         "surface_area [m^2/g]": 0,
         "void_fraction": 0,
         "void_volume [cm^3/g]": 0,
         "functional_groups": "Et",
         "metal_linker": 10,
         "organic_linker1": 46,
         "organic_linker2": 49,
         "topology": "etb",
         "CO2/N2_selectivity": 9.974765376,
         "heat_adsorption_CO2_P0.15bar_T298K [kcal/mol]": "nan",
         "CO2_working_capacity [mL/g]": -6.85959087703472,
         "cif_H": 58,
         "cif_B": 2,
         "cif_C": 46,
         "cif_N": 0,
         "cif_O": 24,
         "cif_F": 0,
         "cif_P": 8,
         "cif_S": 0,
         "cif_Cl": 0,
         "cif_V": 0,
         "cif_Cr": 0,
         "cif_Ni": 0,
         "cif_Cu": 0,
         "cif_Zn": 0,
         "cif_Br": 0,
         "cif_I": 0,
         "cif_Ba": 2,
         "_deepnote_index_column": 68604
        },
        {
         "MOFname": "mof_unit_68606",
         "volume [A^3]": 2112.326167,
         "weight [u]": 1977.49208,
         "surface_area [m^2/g]": 0,
         "void_fraction": 0,
         "void_volume [cm^3/g]": 0,
         "functional_groups": "OPr",
         "metal_linker": 4,
         "organic_linker1": 14,
         "organic_linker2": 14,
         "topology": "acs",
         "CO2/N2_selectivity": 3.233981158,
         "heat_adsorption_CO2_P0.15bar_T298K [kcal/mol]": "nan",
         "CO2_working_capacity [mL/g]": -7.204435785879248,
         "cif_H": 72,
         "cif_B": 0,
         "cif_C": 96,
         "cif_N": 0,
         "cif_O": 32,
         "cif_F": 0,
         "cif_P": 0,
         "cif_S": 0,
         "cif_Cl": 0,
         "cif_V": 0,
         "cif_Cr": 6,
         "cif_Ni": 0,
         "cif_Cu": 0,
         "cif_Zn": 0,
         "cif_Br": 0,
         "cif_I": 0,
         "cif_Ba": 0,
         "_deepnote_index_column": 68605
        },
        {
         "MOFname": "mof_unit_68607",
         "volume [A^3]": 949.067112,
         "weight [u]": 753.7875199999999,
         "surface_area [m^2/g]": 0,
         "void_fraction": 0,
         "void_volume [cm^3/g]": 0,
         "functional_groups": "Pr",
         "metal_linker": 2,
         "organic_linker1": 10,
         "organic_linker2": 18,
         "topology": "pcu",
         "CO2/N2_selectivity": 0,
         "heat_adsorption_CO2_P0.15bar_T298K [kcal/mol]": "nan",
         "CO2_working_capacity [mL/g]": -9.124771269167136,
         "cif_H": 38,
         "cif_B": 0,
         "cif_C": 38,
         "cif_N": 2,
         "cif_O": 8,
         "cif_F": 0,
         "cif_P": 0,
         "cif_S": 0,
         "cif_Cl": 0,
         "cif_V": 0,
         "cif_Cr": 0,
         "cif_Ni": 0,
         "cif_Cu": 2,
         "cif_Zn": 0,
         "cif_Br": 0,
         "cif_I": 0,
         "cif_Ba": 0,
         "_deepnote_index_column": 68606
        },
        {
         "MOFname": "mof_unit_68608",
         "volume [A^3]": 1202.182553,
         "weight [u]": 1042.53824,
         "surface_area [m^2/g]": 0,
         "void_fraction": 0,
         "void_volume [cm^3/g]": 0,
         "functional_groups": "Ph-Cl",
         "metal_linker": 3,
         "organic_linker1": 12,
         "organic_linker2": 24,
         "topology": "pcu",
         "CO2/N2_selectivity": 0,
         "heat_adsorption_CO2_P0.15bar_T298K [kcal/mol]": "nan",
         "CO2_working_capacity [mL/g]": -10.954314651035927,
         "cif_H": 36,
         "cif_B": 0,
         "cif_C": 56,
         "cif_N": 2,
         "cif_O": 8,
         "cif_F": 0,
         "cif_P": 0,
         "cif_S": 0,
         "cif_Cl": 2,
         "cif_V": 0,
         "cif_Cr": 0,
         "cif_Ni": 0,
         "cif_Cu": 0,
         "cif_Zn": 2,
         "cif_Br": 0,
         "cif_I": 0,
         "cif_Ba": 0,
         "_deepnote_index_column": 68607
        },
        {
         "MOFname": "mof_unit_68609",
         "volume [A^3]": 1188.302573,
         "weight [u]": 1001.700216,
         "surface_area [m^2/g]": 0,
         "void_fraction": 0,
         "void_volume [cm^3/g]": 0,
         "functional_groups": "Pr-F",
         "metal_linker": 3,
         "organic_linker1": 4,
         "organic_linker2": 24,
         "topology": "pcu",
         "CO2/N2_selectivity": 24.13177036,
         "heat_adsorption_CO2_P0.15bar_T298K [kcal/mol]": "nan",
         "CO2_working_capacity [mL/g]": -12.943652131402327,
         "cif_H": 55,
         "cif_B": 0,
         "cif_C": 47,
         "cif_N": 2,
         "cif_O": 8,
         "cif_F": 5,
         "cif_P": 0,
         "cif_S": 0,
         "cif_Cl": 0,
         "cif_V": 0,
         "cif_Cr": 0,
         "cif_Ni": 0,
         "cif_Cu": 0,
         "cif_Zn": 2,
         "cif_Br": 0,
         "cif_I": 0,
         "cif_Ba": 0,
         "_deepnote_index_column": 68608
        },
        {
         "MOFname": "mof_unit_68610",
         "volume [A^3]": 1506.6603630000002,
         "weight [u]": 1493.2964960000002,
         "surface_area [m^2/g]": 0,
         "void_fraction": 0.01108,
         "void_volume [cm^3/g]": 0,
         "functional_groups": "SO3H",
         "metal_linker": 10,
         "organic_linker1": 42,
         "organic_linker2": 46,
         "topology": "etb",
         "CO2/N2_selectivity": 6.071817778,
         "heat_adsorption_CO2_P0.15bar_T298K [kcal/mol]": "nan",
         "CO2_working_capacity [mL/g]": -12.985581574603149,
         "cif_H": 50,
         "cif_B": 2,
         "cif_C": 38,
         "cif_N": 0,
         "cif_O": 27,
         "cif_F": 0,
         "cif_P": 8,
         "cif_S": 1,
         "cif_Cl": 0,
         "cif_V": 0,
         "cif_Cr": 0,
         "cif_Ni": 0,
         "cif_Cu": 0,
         "cif_Zn": 0,
         "cif_Br": 0,
         "cif_I": 0,
         "cif_Ba": 2,
         "_deepnote_index_column": 68609
        },
        {
         "MOFname": "mof_unit_68611",
         "volume [A^3]": 2035.532738,
         "weight [u]": 1959.51832,
         "surface_area [m^2/g]": 0,
         "void_fraction": 0,
         "void_volume [cm^3/g]": 0,
         "functional_groups": "OPr",
         "metal_linker": 4,
         "organic_linker1": 14,
         "organic_linker2": 22,
         "topology": "acs",
         "CO2/N2_selectivity": 9.876133998,
         "heat_adsorption_CO2_P0.15bar_T298K [kcal/mol]": "nan",
         "CO2_working_capacity [mL/g]": -13.187635269397644,
         "cif_H": 78,
         "cif_B": 0,
         "cif_C": 94,
         "cif_N": 0,
         "cif_O": 32,
         "cif_F": 0,
         "cif_P": 0,
         "cif_S": 0,
         "cif_Cl": 0,
         "cif_V": 0,
         "cif_Cr": 6,
         "cif_Ni": 0,
         "cif_Cu": 0,
         "cif_Zn": 0,
         "cif_Br": 0,
         "cif_I": 0,
         "cif_Ba": 0,
         "_deepnote_index_column": 68610
        },
        {
         "MOFname": "mof_unit_68612",
         "volume [A^3]": 3985.426053,
         "weight [u]": 3638.67728,
         "surface_area [m^2/g]": 0,
         "void_fraction": 0,
         "void_volume [cm^3/g]": 0,
         "functional_groups": "OPr-Me",
         "metal_linker": 4,
         "organic_linker1": 4,
         "organic_linker2": 15,
         "topology": "acs",
         "CO2/N2_selectivity": 5.285050632,
         "heat_adsorption_CO2_P0.15bar_T298K [kcal/mol]": "inf",
         "CO2_working_capacity [mL/g]": 15.672697623512306,
         "cif_H": 132,
         "cif_B": 0,
         "cif_C": 172,
         "cif_N": 0,
         "cif_O": 60,
         "cif_F": 0,
         "cif_P": 0,
         "cif_S": 0,
         "cif_Cl": 0,
         "cif_V": 0,
         "cif_Cr": 12,
         "cif_Ni": 0,
         "cif_Cu": 0,
         "cif_Zn": 0,
         "cif_Br": 0,
         "cif_I": 0,
         "cif_Ba": 0,
         "_deepnote_index_column": 68611
        },
        {
         "MOFname": "mof_unit_68613",
         "volume [A^3]": 1591.009408,
         "weight [u]": 2071.219,
         "surface_area [m^2/g]": 0,
         "void_fraction": 0.01609,
         "void_volume [cm^3/g]": 0,
         "functional_groups": "I-OEt",
         "metal_linker": 2,
         "organic_linker1": 9,
         "organic_linker2": 16,
         "topology": "pcu",
         "CO2/N2_selectivity": 2.621271792,
         "heat_adsorption_CO2_P0.15bar_T298K [kcal/mol]": "inf",
         "CO2_working_capacity [mL/g]": 3.1447082400614,
         "cif_H": 36,
         "cif_B": 0,
         "cif_C": 58,
         "cif_N": 2,
         "cif_O": 12,
         "cif_F": 0,
         "cif_P": 0,
         "cif_S": 0,
         "cif_Cl": 0,
         "cif_V": 0,
         "cif_Cr": 0,
         "cif_Ni": 0,
         "cif_Cu": 2,
         "cif_Zn": 0,
         "cif_Br": 0,
         "cif_I": 8,
         "cif_Ba": 0,
         "_deepnote_index_column": 68612
        }
       ]
      },
      "text/plain": "              MOFname  volume [A^3]   weight [u]  surface_area [m^2/g]  \\\n0          mof_unit_1   1116.667429   875.240600                  0.00   \n1          mof_unit_2   2769.503842  2211.697211                603.61   \n2          mof_unit_3   1089.818728   773.687960                788.50   \n3          mof_unit_4   2205.198301  1304.638720               1441.53   \n4          mof_unit_5   1137.800963   901.736120                  0.00   \n...               ...           ...          ...                   ...   \n68608  mof_unit_68609   1188.302573  1001.700216                  0.00   \n68609  mof_unit_68610   1506.660363  1493.296496                  0.00   \n68610  mof_unit_68611   2035.532738  1959.518320                  0.00   \n68611  mof_unit_68612   3985.426053  3638.677280                  0.00   \n68612  mof_unit_68613   1591.009408  2071.219000                  0.00   \n\n       void_fraction  void_volume [cm^3/g] functional_groups  metal_linker  \\\n0            0.07899                0.0607          COOH-OEt             3   \n1            0.13794                0.1040             F-OMe            10   \n2            0.14874                0.1262          OMe-COOH             2   \n3            0.21814                0.2220            H-SO3H             9   \n4            0.07778                0.0591           NHMe-OH             2   \n...              ...                   ...               ...           ...   \n68608        0.00000                0.0000              Pr-F             3   \n68609        0.01108                0.0000              SO3H            10   \n68610        0.00000                0.0000               OPr             4   \n68611        0.00000                0.0000            OPr-Me             4   \n68612        0.01609                0.0000             I-OEt             2   \n\n       organic_linker1  organic_linker2  ... cif_S  cif_Cl  cif_V  cif_Cr  \\\n0                    4               11  ...     0       0      0       0   \n1                   44               57  ...     0       0      0       0   \n2                   22               24  ...     0       0      0       0   \n3                   17               24  ...     1       0      4       0   \n4                    1               22  ...     0       0      0       0   \n...                ...              ...  ...   ...     ...    ...     ...   \n68608                4               24  ...     0       0      0       0   \n68609               42               46  ...     1       0      0       0   \n68610               14               22  ...     0       0      0       6   \n68611                4               15  ...     0       0      0      12   \n68612                9               16  ...     0       0      0       0   \n\n       cif_Ni  cif_Cu  cif_Zn  cif_Br  cif_I  cif_Ba  \n0           0       0       2       0      0       0  \n1           0       0       0       0      0       2  \n2           0       2       0       0      0       0  \n3           0       0       0       0      0       0  \n4           0       2       0       0      0       0  \n...       ...     ...     ...     ...    ...     ...  \n68608       0       0       2       0      0       0  \n68609       0       0       0       0      0       2  \n68610       0       0       0       0      0       0  \n68611       0       0       0       0      0       0  \n68612       0       2       0       0      8       0  \n\n[68613 rows x 31 columns]",
      "text/html": "<div>\n<style scoped>\n    .dataframe tbody tr th:only-of-type {\n        vertical-align: middle;\n    }\n\n    .dataframe tbody tr th {\n        vertical-align: top;\n    }\n\n    .dataframe thead th {\n        text-align: right;\n    }\n</style>\n<table border=\"1\" class=\"dataframe\">\n  <thead>\n    <tr style=\"text-align: right;\">\n      <th></th>\n      <th>MOFname</th>\n      <th>volume [A^3]</th>\n      <th>weight [u]</th>\n      <th>surface_area [m^2/g]</th>\n      <th>void_fraction</th>\n      <th>void_volume [cm^3/g]</th>\n      <th>functional_groups</th>\n      <th>metal_linker</th>\n      <th>organic_linker1</th>\n      <th>organic_linker2</th>\n      <th>...</th>\n      <th>cif_S</th>\n      <th>cif_Cl</th>\n      <th>cif_V</th>\n      <th>cif_Cr</th>\n      <th>cif_Ni</th>\n      <th>cif_Cu</th>\n      <th>cif_Zn</th>\n      <th>cif_Br</th>\n      <th>cif_I</th>\n      <th>cif_Ba</th>\n    </tr>\n  </thead>\n  <tbody>\n    <tr>\n      <th>0</th>\n      <td>mof_unit_1</td>\n      <td>1116.667429</td>\n      <td>875.240600</td>\n      <td>0.00</td>\n      <td>0.07899</td>\n      <td>0.0607</td>\n      <td>COOH-OEt</td>\n      <td>3</td>\n      <td>4</td>\n      <td>11</td>\n      <td>...</td>\n      <td>0</td>\n      <td>0</td>\n      <td>0</td>\n      <td>0</td>\n      <td>0</td>\n      <td>0</td>\n      <td>2</td>\n      <td>0</td>\n      <td>0</td>\n      <td>0</td>\n    </tr>\n    <tr>\n      <th>1</th>\n      <td>mof_unit_2</td>\n      <td>2769.503842</td>\n      <td>2211.697211</td>\n      <td>603.61</td>\n      <td>0.13794</td>\n      <td>0.1040</td>\n      <td>F-OMe</td>\n      <td>10</td>\n      <td>44</td>\n      <td>57</td>\n      <td>...</td>\n      <td>0</td>\n      <td>0</td>\n      <td>0</td>\n      <td>0</td>\n      <td>0</td>\n      <td>0</td>\n      <td>0</td>\n      <td>0</td>\n      <td>0</td>\n      <td>2</td>\n    </tr>\n    <tr>\n      <th>2</th>\n      <td>mof_unit_3</td>\n      <td>1089.818728</td>\n      <td>773.687960</td>\n      <td>788.50</td>\n      <td>0.14874</td>\n      <td>0.1262</td>\n      <td>OMe-COOH</td>\n      <td>2</td>\n      <td>22</td>\n      <td>24</td>\n      <td>...</td>\n      <td>0</td>\n      <td>0</td>\n      <td>0</td>\n      <td>0</td>\n      <td>0</td>\n      <td>2</td>\n      <td>0</td>\n      <td>0</td>\n      <td>0</td>\n      <td>0</td>\n    </tr>\n    <tr>\n      <th>3</th>\n      <td>mof_unit_4</td>\n      <td>2205.198301</td>\n      <td>1304.638720</td>\n      <td>1441.53</td>\n      <td>0.21814</td>\n      <td>0.2220</td>\n      <td>H-SO3H</td>\n      <td>9</td>\n      <td>17</td>\n      <td>24</td>\n      <td>...</td>\n      <td>1</td>\n      <td>0</td>\n      <td>4</td>\n      <td>0</td>\n      <td>0</td>\n      <td>0</td>\n      <td>0</td>\n      <td>0</td>\n      <td>0</td>\n      <td>0</td>\n    </tr>\n    <tr>\n      <th>4</th>\n      <td>mof_unit_5</td>\n      <td>1137.800963</td>\n      <td>901.736120</td>\n      <td>0.00</td>\n      <td>0.07778</td>\n      <td>0.0591</td>\n      <td>NHMe-OH</td>\n      <td>2</td>\n      <td>1</td>\n      <td>22</td>\n      <td>...</td>\n      <td>0</td>\n      <td>0</td>\n      <td>0</td>\n      <td>0</td>\n      <td>0</td>\n      <td>2</td>\n      <td>0</td>\n      <td>0</td>\n      <td>0</td>\n      <td>0</td>\n    </tr>\n    <tr>\n      <th>...</th>\n      <td>...</td>\n      <td>...</td>\n      <td>...</td>\n      <td>...</td>\n      <td>...</td>\n      <td>...</td>\n      <td>...</td>\n      <td>...</td>\n      <td>...</td>\n      <td>...</td>\n      <td>...</td>\n      <td>...</td>\n      <td>...</td>\n      <td>...</td>\n      <td>...</td>\n      <td>...</td>\n      <td>...</td>\n      <td>...</td>\n      <td>...</td>\n      <td>...</td>\n      <td>...</td>\n    </tr>\n    <tr>\n      <th>68608</th>\n      <td>mof_unit_68609</td>\n      <td>1188.302573</td>\n      <td>1001.700216</td>\n      <td>0.00</td>\n      <td>0.00000</td>\n      <td>0.0000</td>\n      <td>Pr-F</td>\n      <td>3</td>\n      <td>4</td>\n      <td>24</td>\n      <td>...</td>\n      <td>0</td>\n      <td>0</td>\n      <td>0</td>\n      <td>0</td>\n      <td>0</td>\n      <td>0</td>\n      <td>2</td>\n      <td>0</td>\n      <td>0</td>\n      <td>0</td>\n    </tr>\n    <tr>\n      <th>68609</th>\n      <td>mof_unit_68610</td>\n      <td>1506.660363</td>\n      <td>1493.296496</td>\n      <td>0.00</td>\n      <td>0.01108</td>\n      <td>0.0000</td>\n      <td>SO3H</td>\n      <td>10</td>\n      <td>42</td>\n      <td>46</td>\n      <td>...</td>\n      <td>1</td>\n      <td>0</td>\n      <td>0</td>\n      <td>0</td>\n      <td>0</td>\n      <td>0</td>\n      <td>0</td>\n      <td>0</td>\n      <td>0</td>\n      <td>2</td>\n    </tr>\n    <tr>\n      <th>68610</th>\n      <td>mof_unit_68611</td>\n      <td>2035.532738</td>\n      <td>1959.518320</td>\n      <td>0.00</td>\n      <td>0.00000</td>\n      <td>0.0000</td>\n      <td>OPr</td>\n      <td>4</td>\n      <td>14</td>\n      <td>22</td>\n      <td>...</td>\n      <td>0</td>\n      <td>0</td>\n      <td>0</td>\n      <td>6</td>\n      <td>0</td>\n      <td>0</td>\n      <td>0</td>\n      <td>0</td>\n      <td>0</td>\n      <td>0</td>\n    </tr>\n    <tr>\n      <th>68611</th>\n      <td>mof_unit_68612</td>\n      <td>3985.426053</td>\n      <td>3638.677280</td>\n      <td>0.00</td>\n      <td>0.00000</td>\n      <td>0.0000</td>\n      <td>OPr-Me</td>\n      <td>4</td>\n      <td>4</td>\n      <td>15</td>\n      <td>...</td>\n      <td>0</td>\n      <td>0</td>\n      <td>0</td>\n      <td>12</td>\n      <td>0</td>\n      <td>0</td>\n      <td>0</td>\n      <td>0</td>\n      <td>0</td>\n      <td>0</td>\n    </tr>\n    <tr>\n      <th>68612</th>\n      <td>mof_unit_68613</td>\n      <td>1591.009408</td>\n      <td>2071.219000</td>\n      <td>0.00</td>\n      <td>0.01609</td>\n      <td>0.0000</td>\n      <td>I-OEt</td>\n      <td>2</td>\n      <td>9</td>\n      <td>16</td>\n      <td>...</td>\n      <td>0</td>\n      <td>0</td>\n      <td>0</td>\n      <td>0</td>\n      <td>0</td>\n      <td>2</td>\n      <td>0</td>\n      <td>0</td>\n      <td>8</td>\n      <td>0</td>\n    </tr>\n  </tbody>\n</table>\n<p>68613 rows × 31 columns</p>\n</div>"
     },
     "metadata": {}
    }
   ],
   "execution_count": null
  },
  {
   "cell_type": "code",
   "metadata": {
    "tags": [],
    "cell_id": "00005-d9c35423-6f3b-4a45-8d3c-26f913aa1949",
    "deepnote_to_be_reexecuted": false,
    "source_hash": "7a598d3c",
    "execution_start": 1634387458050,
    "execution_millis": 5288,
    "deepnote_cell_type": "code"
   },
   "source": "test_data_edit.reset_index().rename(columns={'index':'MOFname'}).to_csv('tmlcc-feated/test.csv', index = False)\ntrain_data_edit.reset_index().rename(columns={'index':'MOFname'}).to_csv('tmlcc-feated/train.csv', index = False)",
   "outputs": [],
   "execution_count": null
  },
  {
   "cell_type": "markdown",
   "source": "<a style='text-decoration:none;line-height:16px;display:flex;color:#5B5B62;padding:10px;justify-content:end;' href='https://deepnote.com?utm_source=created-in-deepnote-cell&projectId=4dd58037-7658-4771-aa43-d87d2faa788a' target=\"_blank\">\n<img alt='Created in deepnote.com' style='display:inline;max-height:16px;margin:0px;margin-right:7.5px;' src='data:image/svg+xml;base64,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' > </img>\nCreated in <span style='font-weight:600;margin-left:4px;'>Deepnote</span></a>",
   "metadata": {
    "tags": [],
    "created_in_deepnote_cell": true,
    "deepnote_cell_type": "markdown"
   }
  }
 ],
 "nbformat": 4,
 "nbformat_minor": 2,
 "metadata": {
  "orig_nbformat": 2,
  "deepnote": {
   "is_reactive": false
  },
  "deepnote_notebook_id": "f6581cd4-eb63-4b79-a5a1-c0074899d5dc",
  "deepnote_execution_queue": [],
  "language_info": {
   "name": "python",
   "version": "3.9.7",
   "mimetype": "text/x-python",
   "codemirror_mode": {
    "name": "ipython",
    "version": 3
   },
   "pygments_lexer": "ipython3",
   "nbconvert_exporter": "python",
   "file_extension": ".py"
  },
  "kernelspec": {
   "name": "python3",
   "display_name": "Python 3.9.7 64-bit ('tmlcc.venv': venv)"
  },
  "interpreter": {
   "hash": "9bb6e6925c9607d884ffa612c51083c966d319474f4a204f81fee676264f074b"
  }
 }
}